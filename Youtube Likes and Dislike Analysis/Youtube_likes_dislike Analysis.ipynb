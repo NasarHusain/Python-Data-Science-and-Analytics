{
 "cells": [
  {
   "cell_type": "code",
   "execution_count": null,
   "id": "75d7efe9",
   "metadata": {},
   "outputs": [],
   "source": [
    "import pandas as pd\n",
    "import seaborn as sns\n",
    "import numpy as np\n",
    "import matplotlib.pyplot as plt"
   ]
  },
  {
   "cell_type": "code",
   "execution_count": null,
   "id": "10e98909",
   "metadata": {
    "scrolled": true
   },
   "outputs": [],
   "source": [
    "df = pd.read_csv(r\"E:\\jupiter excel_csv files\\youtube_dislike_dataset.csv\")"
   ]
  },
  {
   "cell_type": "markdown",
   "id": "979bd9ee",
   "metadata": {},
   "source": [
    "##   1.top5 and bottom5"
   ]
  },
  {
   "cell_type": "code",
   "execution_count": null,
   "id": "2ce9f36f",
   "metadata": {},
   "outputs": [],
   "source": [
    "df.head()"
   ]
  },
  {
   "cell_type": "code",
   "execution_count": null,
   "id": "d6745593",
   "metadata": {},
   "outputs": [],
   "source": [
    "df.tail()"
   ]
  },
  {
   "cell_type": "markdown",
   "id": "760fe053",
   "metadata": {},
   "source": [
    "## 2.Dataframe info"
   ]
  },
  {
   "cell_type": "code",
   "execution_count": null,
   "id": "4bcbf982",
   "metadata": {},
   "outputs": [],
   "source": [
    "df.info()"
   ]
  },
  {
   "cell_type": "markdown",
   "id": "b9b4c42d",
   "metadata": {},
   "source": [
    "## 3.the Percentage of the missing values and drop or impute them."
   ]
  },
  {
   "cell_type": "code",
   "execution_count": null,
   "id": "8197b1af",
   "metadata": {
    "scrolled": true
   },
   "outputs": [],
   "source": [
    "df.isnull().sum()"
   ]
  },
  {
   "cell_type": "code",
   "execution_count": null,
   "id": "81547f10",
   "metadata": {
    "scrolled": false
   },
   "outputs": [],
   "source": [
    "(df.isnull().sum()/df.shape[0])*100"
   ]
  },
  {
   "cell_type": "code",
   "execution_count": null,
   "id": "5050278c",
   "metadata": {},
   "outputs": [],
   "source": [
    "df.shape"
   ]
  },
  {
   "cell_type": "code",
   "execution_count": null,
   "id": "c459a109",
   "metadata": {},
   "outputs": [],
   "source": [
    "df.shape[0]"
   ]
  },
  {
   "cell_type": "code",
   "execution_count": null,
   "id": "53ec6630",
   "metadata": {},
   "outputs": [],
   "source": [
    "df.dropna(inplace=True)"
   ]
  },
  {
   "cell_type": "code",
   "execution_count": null,
   "id": "67c5a46e",
   "metadata": {
    "scrolled": true
   },
   "outputs": [],
   "source": [
    "df.isnull().sum()"
   ]
  },
  {
   "cell_type": "markdown",
   "id": "29285faf",
   "metadata": {},
   "source": [
    "##  4.The statistical summary of both numerical and categorical columns "
   ]
  },
  {
   "cell_type": "code",
   "execution_count": null,
   "id": "e29ed325",
   "metadata": {},
   "outputs": [],
   "source": [
    "df.describe()"
   ]
  },
  {
   "cell_type": "markdown",
   "id": "02f1071f",
   "metadata": {},
   "source": [
    "Maximum views for a video is 1.322797e+09\n",
    "Maximum Likes for a video is 3.183768e+07\n",
    "Maximum Dislikes for a video is 2.397733e+06\n",
    "Average view for a video is 5.697838e+06"
   ]
  },
  {
   "cell_type": "markdown",
   "id": "ceab6279",
   "metadata": {},
   "source": [
    "## 5. Datatype of column published_at from object to pandas datetime"
   ]
  },
  {
   "cell_type": "code",
   "execution_count": null,
   "id": "657af701",
   "metadata": {
    "scrolled": true
   },
   "outputs": [],
   "source": [
    "pd.DataFrame(pd.to_datetime(df[\"published_at\"]))"
   ]
  },
  {
   "cell_type": "code",
   "execution_count": null,
   "id": "9a2ad57f",
   "metadata": {
    "scrolled": true
   },
   "outputs": [],
   "source": [
    "pd.DataFrame(df[\"published_at\"])"
   ]
  },
  {
   "cell_type": "code",
   "execution_count": null,
   "id": "ce894d9e",
   "metadata": {},
   "outputs": [],
   "source": [
    "pd.to_datetime(df[\"published_at\"])"
   ]
  },
  {
   "cell_type": "markdown",
   "id": "d46ba44b",
   "metadata": {},
   "source": [
    "## 6.New column as 'published_month' using the column published_at (display the months only)"
   ]
  },
  {
   "cell_type": "code",
   "execution_count": null,
   "id": "0fbf9ea3",
   "metadata": {
    "scrolled": true
   },
   "outputs": [],
   "source": [
    "df[\"published_month\"]=df[\"published_at\"].str[5:7]\n",
    "df[[\"published_month\"]]"
   ]
  },
  {
   "cell_type": "markdown",
   "id": "98c8b635",
   "metadata": {},
   "source": [
    "## 7.Replace the numbers in the column published_month as names of the months i,e., 1 as 'Jan', 2 as 'Feb' and so on.....\n"
   ]
  },
  {
   "cell_type": "code",
   "execution_count": null,
   "id": "e8ef2562",
   "metadata": {},
   "outputs": [],
   "source": [
    "month={'01':'Jan','02':'Feb','03':'Mar','04':'Apr','05':'May','06':'Jun','07':'Jul','08':'Aug','09':'Sep','10':'Oct','11':'Nov','12':'Dec'}\n",
    "month"
   ]
  },
  {
   "cell_type": "code",
   "execution_count": null,
   "id": "d358ef15",
   "metadata": {},
   "outputs": [],
   "source": [
    "df[\"published_month\"]=df[\"published_month\"].map(month)\n",
    "df[\"published_month\"]"
   ]
  },
  {
   "cell_type": "markdown",
   "id": "9ac1e92a",
   "metadata": {},
   "source": [
    "## 8 . Find the number of videos published each month and arrange the months in a decreasing order based on the video count.\n",
    "\n"
   ]
  },
  {
   "cell_type": "code",
   "execution_count": null,
   "id": "ebfc5b2b",
   "metadata": {},
   "outputs": [],
   "source": [
    "pd.DataFrame(df.groupby('published_month')['video_id'].count().sort_values(ascending=False))"
   ]
  },
  {
   "cell_type": "markdown",
   "id": "da9897da",
   "metadata": {},
   "source": [
    "## 9 .Find the count of unique video_id, channel_id and channel_title.\n"
   ]
  },
  {
   "cell_type": "code",
   "execution_count": null,
   "id": "4aedf63a",
   "metadata": {},
   "outputs": [],
   "source": [
    "len(df[\"video_id\"].unique()),len(df[\"channel_id\"].unique()),len(df[\"channel_title\"].unique())"
   ]
  },
  {
   "cell_type": "markdown",
   "id": "ef8f30cb",
   "metadata": {},
   "source": [
    "there are 37264 unique video id,10891 unique channel id, 10813 unique channel title"
   ]
  },
  {
   "cell_type": "markdown",
   "id": "4fa02f23",
   "metadata": {},
   "source": [
    "## 10 .the top10 channel names having the highest number of videos in the dataset and the bottom10 having lowest number of videos.\n"
   ]
  },
  {
   "cell_type": "code",
   "execution_count": null,
   "id": "e53aa8b4",
   "metadata": {},
   "outputs": [],
   "source": [
    "df.groupby(\"channel_title\")[\"video_id\"].count().sort_values(ascending=False).head(10)"
   ]
  },
  {
   "cell_type": "code",
   "execution_count": null,
   "id": "269a8e81",
   "metadata": {},
   "outputs": [],
   "source": [
    "df.groupby(\"channel_title\")[\"video_id\"].count().sort_values(ascending=False).tail(10)"
   ]
  },
  {
   "cell_type": "markdown",
   "id": "f84b36ee",
   "metadata": {},
   "source": [
    "##  11 .the title of the video which has the maximum number of likes and the title of the video having minimum likes\n"
   ]
  },
  {
   "cell_type": "code",
   "execution_count": null,
   "id": "4044c33c",
   "metadata": {
    "scrolled": false
   },
   "outputs": [],
   "source": [
    "pd.DataFrame(df.groupby(\"title\")[\"likes\"].max().sort_values(ascending=False).head(1))"
   ]
  },
  {
   "cell_type": "markdown",
   "id": "10b5e306",
   "metadata": {},
   "source": [
    "BTS () 'Dynamite' Official MV    31837675  having the highest number of likes"
   ]
  },
  {
   "cell_type": "code",
   "execution_count": null,
   "id": "1ec551ae",
   "metadata": {},
   "outputs": [],
   "source": [
    "pd.DataFrame(df.groupby(\"title\")[\"likes\"].max().sort_values(ascending=False).tail(1))"
   ]
  },
  {
   "cell_type": "markdown",
   "id": "f63d029b",
   "metadata": {},
   "source": [
    "## 12 . the title of the video which has the maximum number of dislikes and the title of the video having minimum dislikes\n"
   ]
  },
  {
   "cell_type": "code",
   "execution_count": null,
   "id": "aada787b",
   "metadata": {},
   "outputs": [],
   "source": [
    "pd.DataFrame(df.groupby(\"title\")[\"dislikes\"].max().sort_values(ascending=False).head(1))"
   ]
  },
  {
   "cell_type": "code",
   "execution_count": null,
   "id": "f12060d4",
   "metadata": {
    "scrolled": false
   },
   "outputs": [],
   "source": [
    "pd.DataFrame(df.groupby(\"title\")[\"dislikes\"].min().sort_values().head(1))"
   ]
  },
  {
   "cell_type": "markdown",
   "id": "fecfbbb2",
   "metadata": {},
   "source": [
    "## 13 . Does the number of views have any effect on how many people disliked the video? Support your answer with a metric and a plot\n"
   ]
  },
  {
   "cell_type": "code",
   "execution_count": null,
   "id": "22c0306c",
   "metadata": {},
   "outputs": [],
   "source": [
    "df[\"dislikes rate\"]=df[\"dislikes\"]/df[\"view_count\"]*100"
   ]
  },
  {
   "cell_type": "code",
   "execution_count": null,
   "id": "a8406c5d",
   "metadata": {},
   "outputs": [],
   "source": [
    "pd.DataFrame(df[['dislikes rate','view_count']]).plot(x='view_count',y='dislikes rate',kind='scatter')"
   ]
  },
  {
   "cell_type": "code",
   "execution_count": null,
   "id": "56d4f245",
   "metadata": {},
   "outputs": [],
   "source": [
    "df.corr()"
   ]
  },
  {
   "cell_type": "code",
   "execution_count": null,
   "id": "c970f993",
   "metadata": {},
   "outputs": [],
   "source": [
    "sns.heatmap(df.corr(),annot=True,cmap=\"winter\")"
   ]
  },
  {
   "cell_type": "code",
   "execution_count": null,
   "id": "8a5e9e40",
   "metadata": {},
   "outputs": [],
   "source": [
    "df[df['published_month']=='Jan']"
   ]
  },
  {
   "cell_type": "code",
   "execution_count": null,
   "id": "13dabcdb",
   "metadata": {
    "scrolled": true
   },
   "outputs": [],
   "source": [
    "df[df['published_month']=='Jan'].count()"
   ]
  },
  {
   "cell_type": "code",
   "execution_count": null,
   "id": "cb547574",
   "metadata": {},
   "outputs": [],
   "source": [
    "df[df['published_month']=='Jan']['video_id'].count()"
   ]
  },
  {
   "cell_type": "markdown",
   "id": "7beed400",
   "metadata": {},
   "source": [
    "## Monthwise view count"
   ]
  },
  {
   "cell_type": "code",
   "execution_count": null,
   "id": "b6810f3b",
   "metadata": {
    "scrolled": false
   },
   "outputs": [],
   "source": [
    "df.groupby('published_month')['view_count'].sum()"
   ]
  },
  {
   "cell_type": "markdown",
   "id": "8599c19d",
   "metadata": {},
   "source": [
    "## Monthwise Dislike count"
   ]
  },
  {
   "cell_type": "code",
   "execution_count": null,
   "id": "91e4d1cb",
   "metadata": {
    "scrolled": true
   },
   "outputs": [],
   "source": [
    "import pandas as pd\n",
    "ax = pd.pivot_table(df,index = 'published_month',values ='dislikes',aggfunc='sum').sort_values(by ='dislikes').plot(kind = 'bar')\n",
    "\n",
    "# Set y-axis labels to the same scale as the data\n",
    "ax.get_yaxis().set_major_formatter(plt.FuncFormatter(lambda x, _: f'{int(x):,}'))\n",
    "\n",
    "# Show the plot\n",
    "plt.show()"
   ]
  }
 ],
 "metadata": {
  "kernelspec": {
   "display_name": "Python 3 (ipykernel)",
   "language": "python",
   "name": "python3"
  },
  "language_info": {
   "codemirror_mode": {
    "name": "ipython",
    "version": 3
   },
   "file_extension": ".py",
   "mimetype": "text/x-python",
   "name": "python",
   "nbconvert_exporter": "python",
   "pygments_lexer": "ipython3",
   "version": "3.10.9"
  }
 },
 "nbformat": 4,
 "nbformat_minor": 5
}
